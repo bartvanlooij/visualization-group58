{
 "cells": [
  {
   "cell_type": "code",
   "execution_count": 28,
   "metadata": {},
   "outputs": [
    {
     "name": "stdout",
     "output_type": "stream",
     "text": [
      "Total entries in WorldCupShootouts.csv: 9\n"
     ]
    },
    {
     "name": "stderr",
     "output_type": "stream",
     "text": [
      "<>:5: SyntaxWarning: invalid escape sequence '\\D'\n",
      "<>:5: SyntaxWarning: invalid escape sequence '\\D'\n",
      "C:\\Users\\bartv\\AppData\\Local\\Temp\\ipykernel_13156\\1346600466.py:5: SyntaxWarning: invalid escape sequence '\\D'\n",
      "  path = 'FIFA DataSet\\Data\\FIFA World Cup Penalty Shootouts\\WorldCupShootouts.csv'\n"
     ]
    },
    {
     "data": {
      "text/plain": [
       "Game_id           0\n",
       "Team              0\n",
       "Zone              0\n",
       "Foot              0\n",
       "Keeper            0\n",
       "OnTarget          0\n",
       "Goal              0\n",
       "Penalty_Number    0\n",
       "Elimination       0\n",
       "dtype: int64"
      ]
     },
     "execution_count": 28,
     "metadata": {},
     "output_type": "execute_result"
    }
   ],
   "source": [
    "import pandas as pd\n",
    "\n",
    "# Read the CSV file into a DataFrame: df\n",
    "\n",
    "path = 'FIFA DataSet\\Data\\FIFA World Cup Penalty Shootouts\\WorldCupShootouts.csv'\n",
    "df = pd.read_csv(path)\n",
    "\n",
    "print(f'Total entries in {path.rsplit('\\\\', 1)[1]}: {df.shape[1]}')\n",
    "# show number of missing values in each column\n",
    "df.isnull().sum()"
   ]
  },
  {
   "cell_type": "code",
   "execution_count": 29,
   "metadata": {},
   "outputs": [
    {
     "data": {
      "text/plain": [
       "Game_id           320\n",
       "Team              320\n",
       "Zone              320\n",
       "Foot              320\n",
       "Keeper            320\n",
       "OnTarget          320\n",
       "Goal              320\n",
       "Penalty_Number    320\n",
       "Elimination       320\n",
       "dtype: int64"
      ]
     },
     "execution_count": 29,
     "metadata": {},
     "output_type": "execute_result"
    }
   ],
   "source": [
    "df.notna().sum()"
   ]
  },
  {
   "cell_type": "code",
   "execution_count": 30,
   "metadata": {},
   "outputs": [
    {
     "data": {
      "text/plain": [
       "(320, 9)"
      ]
     },
     "execution_count": 30,
     "metadata": {},
     "output_type": "execute_result"
    }
   ],
   "source": [
    "df.shape"
   ]
  },
  {
   "cell_type": "code",
   "execution_count": null,
   "metadata": {},
   "outputs": [],
   "source": []
  }
 ],
 "metadata": {
  "kernelspec": {
   "display_name": "vis",
   "language": "python",
   "name": "python3"
  },
  "language_info": {
   "codemirror_mode": {
    "name": "ipython",
    "version": 3
   },
   "file_extension": ".py",
   "mimetype": "text/x-python",
   "name": "python",
   "nbconvert_exporter": "python",
   "pygments_lexer": "ipython3",
   "version": "3.12.0"
  }
 },
 "nbformat": 4,
 "nbformat_minor": 2
}
