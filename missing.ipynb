{
 "cells": [
  {
   "cell_type": "code",
   "execution_count": 28,
   "metadata": {},
   "outputs": [
    {
     "name": "stdout",
     "output_type": "stream",
     "text": [
      "Total entries in WorldCupShootouts.csv: 9\n"
     ]
    },
    {
     "name": "stderr",
     "output_type": "stream",
     "text": [
      "<>:5: SyntaxWarning: invalid escape sequence '\\D'\n",
      "<>:5: SyntaxWarning: invalid escape sequence '\\D'\n",
      "C:\\Users\\bartv\\AppData\\Local\\Temp\\ipykernel_13156\\1346600466.py:5: SyntaxWarning: invalid escape sequence '\\D'\n",
      "  path = 'FIFA DataSet\\Data\\FIFA World Cup Penalty Shootouts\\WorldCupShootouts.csv'\n"
     ]
    },
    {
     "data": {
      "text/plain": [
       "Game_id           0\n",
       "Team              0\n",
       "Zone              0\n",
       "Foot              0\n",
       "Keeper            0\n",
       "OnTarget          0\n",
       "Goal              0\n",
       "Penalty_Number    0\n",
       "Elimination       0\n",
       "dtype: int64"
      ]
     },
     "execution_count": 28,
     "metadata": {},
     "output_type": "execute_result"
    }
   ],
   "source": [
    "import pandas as pd\n",
    "\n",
    "# Read the CSV file into a DataFrame: df\n",
    "\n",
    "path = 'FIFA DataSet\\Data\\FIFA World Cup Penalty Shootouts\\WorldCupShootouts.csv'\n",
    "df = pd.read_csv(path)\n",
    "\n",
    "print(f'Total entries in {path.rsplit('\\\\', 1)[1]}: {df.shape[1]}')\n",
    "# show number of missing values in each column\n",
    "df.isnull().sum()"
   ]
  },
  {
   "cell_type": "code",
   "execution_count": 29,
   "metadata": {},
   "outputs": [
    {
     "data": {
      "text/plain": [
       "Game_id           320\n",
       "Team              320\n",
       "Zone              320\n",
       "Foot              320\n",
       "Keeper            320\n",
       "OnTarget          320\n",
       "Goal              320\n",
       "Penalty_Number    320\n",
       "Elimination       320\n",
       "dtype: int64"
      ]
     },
     "execution_count": 29,
     "metadata": {},
     "output_type": "execute_result"
    }
   ],
   "source": [
    "df.notna().sum()"
   ]
  },
  {
   "cell_type": "code",
   "execution_count": 30,
   "metadata": {},
   "outputs": [
    {
     "data": {
      "text/plain": [
       "(320, 9)"
      ]
     },
     "execution_count": 30,
     "metadata": {},
     "output_type": "execute_result"
    }
   ],
   "source": [
    "df.shape"
   ]
  },
  {
   "cell_type": "code",
   "execution_count": 6,
   "metadata": {},
   "outputs": [
    {
     "data": {
      "text/plain": [
       "{'match_id': 7585,\n",
       " 'match_date': '2018-07-03',\n",
       " 'kick_off': '20:00:00.000',\n",
       " 'competition': {'competition_id': 43,\n",
       "  'country_name': 'International',\n",
       "  'competition_name': 'FIFA World Cup'},\n",
       " 'season': {'season_id': 3, 'season_name': '2018'},\n",
       " 'home_team': {'home_team_id': 769,\n",
       "  'home_team_name': 'Colombia',\n",
       "  'home_team_gender': 'male',\n",
       "  'home_team_group': None,\n",
       "  'country': {'id': 49, 'name': 'Colombia'},\n",
       "  'managers': [{'id': 634,\n",
       "    'name': 'JosÃ© NÃ©stor Pekerman',\n",
       "    'nickname': 'JosÃ© PÃ©kerman',\n",
       "    'dob': '1949-09-03',\n",
       "    'country': {'id': 11, 'name': 'Argentina'}}]},\n",
       " 'away_team': {'away_team_id': 768,\n",
       "  'away_team_name': 'England',\n",
       "  'away_team_gender': 'male',\n",
       "  'away_team_group': None,\n",
       "  'country': {'id': 68, 'name': 'England'},\n",
       "  'managers': [{'id': 277,\n",
       "    'name': 'Gareth Southgate',\n",
       "    'nickname': None,\n",
       "    'dob': '1970-09-03',\n",
       "    'country': {'id': 68, 'name': 'England'}}]},\n",
       " 'home_score': 1,\n",
       " 'away_score': 1,\n",
       " 'match_status': 'available',\n",
       " 'match_status_360': 'scheduled',\n",
       " 'last_updated': '2023-07-24T13:06:27.791230',\n",
       " 'last_updated_360': '2021-06-13T16:17:31.694',\n",
       " 'metadata': {'data_version': '1.0.2'},\n",
       " 'match_week': 4,\n",
       " 'competition_stage': {'id': 33, 'name': 'Round of 16'},\n",
       " 'stadium': {'id': 4130,\n",
       "  'name': 'Otkritie Bank Arena',\n",
       "  'country': {'id': 188, 'name': 'Russia'}},\n",
       " 'referee': {'id': 435,\n",
       "  'name': 'Mark Geiger',\n",
       "  'country': {'id': 241, 'name': 'United States of America'}}}"
      ]
     },
     "execution_count": 6,
     "metadata": {},
     "output_type": "execute_result"
    }
   ],
   "source": [
    "import json\n",
    "\n",
    "with open('3.json') as f:\n",
    "    data = json.load(f)\n",
    "    \n",
    "    \n",
    "data[0]"
   ]
  },
  {
   "cell_type": "code",
   "execution_count": null,
   "metadata": {},
   "outputs": [],
   "source": []
  }
 ],
 "metadata": {
  "kernelspec": {
   "display_name": "vis",
   "language": "python",
   "name": "python3"
  },
  "language_info": {
   "codemirror_mode": {
    "name": "ipython",
    "version": 3
   },
   "file_extension": ".py",
   "mimetype": "text/x-python",
   "name": "python",
   "nbconvert_exporter": "python",
   "pygments_lexer": "ipython3",
   "version": "3.9.0"
  }
 },
 "nbformat": 4,
 "nbformat_minor": 2
}
