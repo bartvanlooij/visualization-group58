{
 "cells": [
  {
   "cell_type": "markdown",
   "metadata": {},
   "source": [
    "# Eploration \n",
    "\n",
    "\n",
    "### Create `columns.json`\n",
    "\n",
    "Create a json file that contains all the column names\n"
   ]
  },
  {
   "cell_type": "code",
   "execution_count": 28,
   "metadata": {},
   "outputs": [
    {
     "name": "stdout",
     "output_type": "stream",
     "text": [
      "error in FIFA World Cup 2022 Twitter Dataset/tweets1.csv\n",
      "Error tokenizing data. C error: Expected 1 fields in line 5, saw 2\n",
      "\n",
      "error in FIFA World Cup 2022 Twitter Dataset/tweets2.csv\n",
      "Error tokenizing data. C error: Expected 1 fields in line 12, saw 2\n",
      "\n"
     ]
    }
   ],
   "source": [
    "import pandas as pd\n",
    "import os\n",
    "import json\n",
    "\n",
    "with open(\"columns.json\", \"w\") as f:\n",
    "    f.truncate(0)\n",
    "    f.write(\"{}\")\n",
    "\n",
    "for folder in os.listdir(\"FIFA Dataset/data\"):\n",
    "    for file in os.listdir(\"FIFA Dataset/data/\" + folder):\n",
    "        if file.endswith(\".csv\"):\n",
    "            with open(\"columns.json\", \"r\") as f:\n",
    "                data = json.load(f)\n",
    "        try:\n",
    "            if file.endswith(\".csv\"):\n",
    "                df = pd.read_csv(\"FIFA Dataset/data/\" + folder + \"/\" + file)\n",
    "                data[f\"{folder}/{file}\"] = list(df.columns)\n",
    "                with open(\"columns.json\", \"a\") as f:\n",
    "                    f.truncate(0)\n",
    "                    json.dump(data, f, indent=4)\n",
    "        except Exception as e:\n",
    "            print(f\"error in {folder}/{file}\")\n",
    "            print(e)\n",
    "\n",
    "\n",
    "df_tweets_01 = pd.read_csv(\n",
    "    \"FIFA Dataset/data/FIFA World Cup 2022 Twitter Dataset/tweets1.csv\", delimiter=\";\"\n",
    ")\n",
    "df_tweets_02 = pd.read_csv(\n",
    "    \"FIFA Dataset/data/FIFA World Cup 2022 Twitter Dataset/tweets2.csv\", delimiter=\";\"\n",
    ")\n",
    "df_tweets = pd.concat([df_tweets_01, df_tweets_02])\n",
    "with open(\"columns.json\", \"r\") as f:\n",
    "    data = json.load(f)\n",
    "\n",
    "data[\"FIFA World Cup 2022 Twitter Dataset/tweets.csv\"] = list(df_tweets.columns)\n",
    "with open(\"columns.json\", \"a\") as f:\n",
    "    f.truncate(0)\n",
    "    json.dump(data, f, indent=4)"
   ]
  },
  {
   "cell_type": "markdown",
   "metadata": {},
   "source": [
    "### Merge all field player data together into one dataframe"
   ]
  },
  {
   "cell_type": "code",
   "execution_count": 53,
   "metadata": {},
   "outputs": [
    {
     "name": "stdout",
     "output_type": "stream",
     "text": [
      "player_defense.csv\n",
      "player_gca.csv\n",
      "player_misc.csv\n",
      "player_passing.csv\n",
      "player_passing_types.csv\n",
      "player_playingtime.csv\n",
      "player_possession.csv\n",
      "player_shooting.csv\n",
      "player_stats.csv\n"
     ]
    }
   ],
   "source": [
    "\n",
    "import pandas as pd\n",
    "import os\n",
    "import difflib \n",
    "# create an empty dataframe to store the final result\n",
    "df_final = pd.read_csv(\n",
    "    \"FIFA Dataset/data/FIFA World Cup 2022 Player Data/player_defense.csv\"\n",
    ")\n",
    "# loop through all the csv files in the folder\n",
    "for file in os.listdir(\"FIFA Dataset/data/FIFA World Cup 2022 Player Data\"):\n",
    "    if file.endswith(\".csv\") and \"keepers\" not in file:\n",
    "        # read the csv file\n",
    "        df = pd.read_csv(\"FIFA Dataset/data/FIFA World Cup 2022 Player Data/\" + file)\n",
    "        # drop the duplicate columns\n",
    "        df = df.loc[:, ~df.columns.duplicated()]\n",
    "        # concatenate the dataframe to the final dataframe\n",
    "        df_final = pd.merge(\n",
    "            df_final, df, on=\"player\", how=\"outer\", suffixes=(\"\", \"_right\")\n",
    "        )\n",
    "\n",
    "\n",
    "# drop columns that where they have the same name but end with _x and _y, only keep the _x columns\n",
    "df_final = df_final.loc[:, ~df_final.columns.str.endswith(\"_right\")]\n",
    "\n",
    "# save\n",
    "df_final.to_csv(\"FIFA Dataset/data/FIFA World Cup 2022 Player Data/players_joined.csv\", index=False)\n",
    "\n"
   ]
  },
  {
   "cell_type": "markdown",
   "metadata": {},
   "source": [
    "x"
   ]
  },
  {
   "cell_type": "code",
   "execution_count": null,
   "metadata": {},
   "outputs": [],
   "source": [
    "def get_player_info(name):\n",
    "    all_players = df_final[\"player\"].str.lower().tolist()\n",
    "    # find the closest match\n",
    "    closest_match = difflib.get_close_matches(name.lower(), all_players)[0]\n",
    "\n",
    "    player_info = df_final[df_final[\"player\"].str.lower() == closest_match]\n",
    "    # drop the player column\n",
    "    player_info = player_info.drop(\"player\", axis=1)\n",
    "    # print as dictionary\n",
    "    return player_info.to_dict(orient=\"records\")[0]"
   ]
  },
  {
   "cell_type": "markdown",
   "metadata": {},
   "source": [
    "### Merge all keeper data into one dataframe\n"
   ]
  },
  {
   "cell_type": "code",
   "execution_count": 54,
   "metadata": {},
   "outputs": [
    {
     "name": "stdout",
     "output_type": "stream",
     "text": [
      "player_keepers.csv\n",
      "player_keepersadv.csv\n"
     ]
    }
   ],
   "source": [
    "\n",
    "df_final = pd.read_csv(\n",
    "    \"FIFA Dataset/data/FIFA World Cup 2022 Player Data/player_keepers.csv\"\n",
    ")\n",
    "# loop through all the csv files in the folder\n",
    "for file in os.listdir(\"FIFA Dataset/data/FIFA World Cup 2022 Player Data\"):\n",
    "    if file.endswith(\".csv\") and \"keepers\" in file:\n",
    "        # read the csv file\n",
    "        df = pd.read_csv(\"FIFA Dataset/data/FIFA World Cup 2022 Player Data/\" + file)\n",
    "        # drop the duplicate columns\n",
    "        df = df.loc[:, ~df.columns.duplicated()]\n",
    "        # concatenate the dataframe to the final dataframe\n",
    "        df_final = pd.merge(\n",
    "            df_final, df, on=\"player\", how=\"outer\", suffixes=(\"\", \"_right\")\n",
    "        )\n",
    "\n",
    "\n",
    "# drop columns that where they have the same name but end with _x and _y, only keep the _x columns\n",
    "df_final = df_final.loc[:, ~df_final.columns.str.endswith(\"_right\")]\n",
    "\n",
    "# save\n",
    "df_final.to_csv(\n",
    "    \"FIFA Dataset/data/FIFA World Cup 2022 Player Data/keepers_joined.csv\", index=False\n",
    ")"
   ]
  },
  {
   "cell_type": "markdown",
   "metadata": {},
   "source": [
    "### Helper function"
   ]
  },
  {
   "cell_type": "code",
   "execution_count": 55,
   "metadata": {},
   "outputs": [],
   "source": [
    "def get_player_info(name, \n",
    "                    df_player = pd.read_csv(\"FIFA Dataset/data/FIFA World Cup 2022 Player Data/players_joined.csv\"), \n",
    "                    df_keeper = pd.read_csv(\"FIFA Dataset/data/FIFA World Cup 2022 Player Data/keepers_joined.csv\")):\n",
    "    \n",
    "    all_players = df_player[\"player\"].str.lower().tolist()\n",
    "    all_keepers = df_keeper[\"player\"].str.lower().tolist()\n",
    "    # players and keepers together\n",
    "    all_players = all_players + all_keepers\n",
    "    # find the closest match\n",
    "    closest_match = difflib.get_close_matches(name.lower(), all_players)[0]\n",
    "\n",
    "    player_info = df_final[df_final[\"player\"].str.lower() == closest_match]\n",
    "    # drop the player column\n",
    "    player_info = player_info.drop(\"player\", axis=1)\n",
    "    # print as dictionary\n",
    "    return player_info.to_dict(orient=\"records\")[0]"
   ]
  },
  {
   "cell_type": "code",
   "execution_count": 56,
   "metadata": {},
   "outputs": [
    {
     "data": {
      "text/plain": [
       "{'position': 'GK',\n",
       " 'team': 'Brazil',\n",
       " 'age': '29-123',\n",
       " 'club': 'Manchester City',\n",
       " 'birth_year': 1993,\n",
       " 'gk_games': 1,\n",
       " 'gk_games_starts': 1,\n",
       " 'gk_minutes': 90,\n",
       " 'minutes_90s': 1.0,\n",
       " 'gk_goals_against': 1,\n",
       " 'gk_goals_against_per90': 1.0,\n",
       " 'gk_shots_on_target_against': 3,\n",
       " 'gk_saves': 2,\n",
       " 'gk_save_pct': 66.7,\n",
       " 'gk_wins': 0,\n",
       " 'gk_ties': 0,\n",
       " 'gk_losses': 1,\n",
       " 'gk_clean_sheets': 0,\n",
       " 'gk_clean_sheets_pct': 0.0,\n",
       " 'gk_pens_att': 0,\n",
       " 'gk_pens_allowed': 0,\n",
       " 'gk_pens_saved': 0,\n",
       " 'gk_pens_missed': 0,\n",
       " 'gk_pens_save_pct': nan,\n",
       " 'gk_free_kick_goals_against': 0,\n",
       " 'gk_corner_kick_goals_against': 0,\n",
       " 'gk_own_goals_against': 0,\n",
       " 'gk_psxg': 1.2,\n",
       " 'gk_psnpxg_per_shot_on_target_against': 0.39,\n",
       " 'gk_psxg_net': 0.2,\n",
       " 'gk_psxg_net_per90': 0.18,\n",
       " 'gk_passes_completed_launched': 3,\n",
       " 'gk_passes_launched': 4,\n",
       " 'gk_passes_pct_launched': 75.0,\n",
       " 'gk_passes': 25,\n",
       " 'gk_passes_throws': 10,\n",
       " 'gk_pct_passes_launched': 12.0,\n",
       " 'gk_passes_length_avg': 25.8,\n",
       " 'gk_goal_kicks': 6,\n",
       " 'gk_pct_goal_kicks_launched': 16.7,\n",
       " 'gk_goal_kick_length_avg': 29.8,\n",
       " 'gk_crosses': 8,\n",
       " 'gk_crosses_stopped': 0,\n",
       " 'gk_crosses_stopped_pct': 0.0,\n",
       " 'gk_def_actions_outside_pen_area': 2,\n",
       " 'gk_def_actions_outside_pen_area_per90': 2.0,\n",
       " 'gk_avg_distance_def_actions': 15.5}"
      ]
     },
     "execution_count": 56,
     "metadata": {},
     "output_type": "execute_result"
    }
   ],
   "source": [
    "get_player_info(\"Ederson\")"
   ]
  },
  {
   "cell_type": "code",
   "execution_count": null,
   "metadata": {},
   "outputs": [],
   "source": []
  }
 ],
 "metadata": {
  "kernelspec": {
   "display_name": "vis",
   "language": "python",
   "name": "python3"
  },
  "language_info": {
   "codemirror_mode": {
    "name": "ipython",
    "version": 3
   },
   "file_extension": ".py",
   "mimetype": "text/x-python",
   "name": "python",
   "nbconvert_exporter": "python",
   "pygments_lexer": "ipython3",
   "version": "3.9.0"
  }
 },
 "nbformat": 4,
 "nbformat_minor": 2
}
