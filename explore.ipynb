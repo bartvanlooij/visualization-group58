{
 "cells": [
  {
   "cell_type": "code",
   "execution_count": 28,
   "metadata": {},
   "outputs": [
    {
     "name": "stdout",
     "output_type": "stream",
     "text": [
      "error in FIFA World Cup 2022 Twitter Dataset/tweets1.csv\n",
      "Error tokenizing data. C error: Expected 1 fields in line 5, saw 2\n",
      "\n",
      "error in FIFA World Cup 2022 Twitter Dataset/tweets2.csv\n",
      "Error tokenizing data. C error: Expected 1 fields in line 12, saw 2\n",
      "\n"
     ]
    }
   ],
   "source": [
    "import pandas as pd\n",
    "import os\n",
    "import json\n",
    "\n",
    "with open(\"columns.json\", \"w\") as f:\n",
    "    f.truncate(0)\n",
    "    f.write(\"{}\")\n",
    "\n",
    "for folder in os.listdir(\"FIFA Dataset/data\"):\n",
    "    for file in os.listdir(\"FIFA Dataset/data/\" + folder):\n",
    "        if file.endswith(\".csv\"):\n",
    "            with open(\"columns.json\", \"r\") as f:\n",
    "                data = json.load(f)\n",
    "        try:\n",
    "            if file.endswith(\".csv\"):\n",
    "                df = pd.read_csv(\"FIFA Dataset/data/\" + folder + \"/\" + file)\n",
    "                data[f\"{folder}/{file}\"] = list(df.columns)\n",
    "                with open(\"columns.json\", \"a\") as f:\n",
    "                    f.truncate(0)\n",
    "                    json.dump(data, f, indent=4)\n",
    "        except Exception as e:\n",
    "            print(f\"error in {folder}/{file}\")\n",
    "            print(e)\n",
    "\n",
    "\n",
    "df_tweets_01 = pd.read_csv(\n",
    "    \"FIFA Dataset/data/FIFA World Cup 2022 Twitter Dataset/tweets1.csv\", delimiter=\";\"\n",
    ")\n",
    "df_tweets_02 = pd.read_csv(\n",
    "    \"FIFA Dataset/data/FIFA World Cup 2022 Twitter Dataset/tweets2.csv\", delimiter=\";\"\n",
    ")\n",
    "df_tweets = pd.concat([df_tweets_01, df_tweets_02])\n",
    "with open(\"columns.json\", \"r\") as f:\n",
    "    data = json.load(f)\n",
    "\n",
    "data[\"FIFA World Cup 2022 Twitter Dataset/tweets.csv\"] = list(df_tweets.columns)\n",
    "with open(\"columns.json\", \"a\") as f:\n",
    "    f.truncate(0)\n",
    "    json.dump(data, f, indent=4)"
   ]
  },
  {
   "cell_type": "code",
   "execution_count": null,
   "metadata": {},
   "outputs": [],
   "source": []
  }
 ],
 "metadata": {
  "kernelspec": {
   "display_name": "vis",
   "language": "python",
   "name": "python3"
  },
  "language_info": {
   "codemirror_mode": {
    "name": "ipython",
    "version": 3
   },
   "file_extension": ".py",
   "mimetype": "text/x-python",
   "name": "python",
   "nbconvert_exporter": "python",
   "pygments_lexer": "ipython3",
   "version": "3.9.0"
  }
 },
 "nbformat": 4,
 "nbformat_minor": 2
}
